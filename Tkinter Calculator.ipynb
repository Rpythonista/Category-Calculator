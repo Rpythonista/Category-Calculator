{
 "cells": [
  {
   "cell_type": "code",
   "execution_count": 1,
   "metadata": {},
   "outputs": [],
   "source": [
    "from tkinter import * #Importing libraries\n",
    "\n",
    "#Function helping in getting desired result\n",
    "def calculate():\n",
    "    sentence = entry_1.get() #Input \n",
    "    d = dict() #Dictonary d\n",
    "    for a, b in (elements.split(\" \") for elements in sentence.split(\", \")): #Loop for spliting the values\n",
    "        if a in d.keys():\n",
    "            d[a.strip()] =  int(d[a]) + int(b.strip()) #Adding duplicate values\n",
    "        else:\n",
    "            d[a.strip()] = int(b.strip())\n",
    "\n",
    "    \n",
    "    label_2 = Label(my_window)\n",
    "    label_2[\"text\"] = d\n",
    "    label_2.grid(row=1,column=1)\n",
    "\n",
    "    \n",
    "my_window=Tk()\n",
    "#headlabel=Label(root,text=\"Let's See How Much Have You Saved Today? :D\" , fg=\"White\" , bg=\"Black\")\n",
    "label_1 = Label(my_window, text=\"Please enter the items to be calculated: \"  , fg=\"Black\" , bg=\"LavenderBlush2\") #Creating label for the entry frield\n",
    "entry_1 = Entry(my_window) \n",
    "button_1 = Button(my_window, text=\"Result\", bg=\"orchid1\" ,fg=\"black\", command = calculate) \n",
    "\n",
    "#headlabel.grid(row=0,column=1)\n",
    "label_1.grid(row=0,column=0) #Arranging label\n",
    "entry_1.grid(row=0,column=1)\n",
    "button_1.grid(row=1,column=0)\n",
    "\n",
    "my_window.configure(background= 'LavenderBlush2')\n",
    "my_window.title('Customised Calculator') #Title of the calculator\n",
    "my_window.geometry(\"400x200\") #Dimension of the calculator\n",
    "\n",
    "my_window.mainloop()"
   ]
  }
 ],
 "metadata": {
  "kernelspec": {
   "display_name": "Python 3",
   "language": "python",
   "name": "python3"
  },
  "language_info": {
   "codemirror_mode": {
    "name": "ipython",
    "version": 3
   },
   "file_extension": ".py",
   "mimetype": "text/x-python",
   "name": "python",
   "nbconvert_exporter": "python",
   "pygments_lexer": "ipython3",
   "version": "3.7.4"
  }
 },
 "nbformat": 4,
 "nbformat_minor": 2
}
